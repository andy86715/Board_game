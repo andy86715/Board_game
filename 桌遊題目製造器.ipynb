{
 "cells": [
  {
   "cell_type": "code",
   "execution_count": 109,
   "metadata": {
    "collapsed": true
   },
   "outputs": [],
   "source": [
    "import itertools\n",
    "import pandas as pd\n",
    "import numpy as np\n",
    "from random import sample"
   ]
  },
  {
   "cell_type": "code",
   "execution_count": 2,
   "metadata": {
    "collapsed": false
   },
   "outputs": [],
   "source": [
    "obj_food = ['米','罐頭','麵粉','冷凍食物','奶粉','麥片','穀物','麵茶','巧克力','冰淇淋','麵包''蛋糕','泡芙','餅乾','巧克力','蛋塔',\n",
    "           '飯','肉','蔬菜','水果','義大利麵','乳酪','派','煎餅','餅乾','蔥油餅','披薩','可麗餅','蘿蔔糕','腰果','核桃',\n",
    "            '杏仁','花生','開心果','葡萄乾','瓜子','三明治','蛋餅','漢堡','包子','饅頭','飯糰','稀飯','麵包','法式吐司','吐司',\n",
    "            '小籠包','鐵板麵','霜淇淋','刨冰','雪花冰','冰棒','小美冰淇淋','甜筒']\n",
    "obj_noodle = ['蚵仔麵線','臭豆腐','泡麵','豬腳麵線','餛飩麵','豬排麵','榨菜肉絲麵','冬粉']\n",
    "obj_vege = ['萵苣','空心菜','芥藍菜','豌豆','菠菜','青椒','絲瓜','茄子','花椰菜','青椒','小黃瓜','洋蔥','青蔥','豆芽菜','蘿蔔',\n",
    "            '香菇','杏鮑菇','龍鬚菜','海帶']\n",
    "obj_frult = ['香蕉','蕃薯','西瓜','楊桃','奇異果','香瓜','柚子','草莓','葡萄柚','蕃茄','櫻桃','鳳梨','椰子','檸檬','酸梅',\n",
    "             '柿子','香蕉','葡萄','蘋果','橘子','水梨','鳳梨','柳丁','哈密瓜','香蕉']\n",
    "obj_jan = ['花生醬','果醬','芥末醬','辣椒醬','酸黃瓜醬','番茄醬','美乃滋']\n",
    "obj_drink = ['果汁','啤酒','水','汽水','香檳','牛奶','葡萄酒','珍珠奶茶','豆漿','米漿','茶']\n",
    "obj_life = ['肥皂','洗髮精','沐浴乳','洗衣粉','衛生綿','尿布','垃圾袋','濕紙巾','手套','拋棄式雨衣','護目鏡','耳溫槍','枕頭',\n",
    "            '床墊','床單','棉被','毛毯','衣服','鞋子','食物','藥物','護髮用品','飲料','化妝品','攝影','壁畫','油畫','海報',\n",
    "            '圖畫書','旅遊指南','小冊子','日記','字典','月曆','牙籤','螺絲釘','釘子','大頭針','指南針','胸針','指甲刀','髮髻',\n",
    "            '電動刮鬍刀','指甲銼刀','梳子','拋棄式刮鬍刀','牙刷']\n",
    "obj_pen = ['筆袋','筆盒','鉛筆','自動鉛筆','水彩筆','白板筆','原子筆','中性筆','油畫棒','油性筆','蠟筆','鋼筆','書包','橡皮擦',\n",
    "           '削筆機','筆削','液體膠水','固體膠','尺類','圓規','美工刀','剪刀','書套','修正帶','文件夾','本冊','文件袋','畫板',\n",
    "           '筆芯','麥克筆','粉筆','螢光筆']\n",
    "obj_car = ['大貨車','拖吊車','公車','計程車','轎車','旅行車','廂型車','跑車','火車','腳踏車','摩托車']\n",
    "obj_sport = ['桌球','排球','籃球','網球','撞球','田徑','鉛球','標槍','鐵餅','跳遠跳繩','游泳','溜溜球','保齡球','登山','有氧舞蹈',\n",
    "             '瑜珈','登山','攀岩','跳傘','滑翔翼','釣魚','賽馬','跳高','衝浪','滑冰','滑板','滑輪','曲棍球','跆拳道','拳擊','摔角',\n",
    "             '劍道','相撲','美式足球','足球','體操','羽球','滑雪','射箭','競技啦啦隊','網球拍','球棒','高爾夫球棍','滑雪桿','雪橇',\n",
    "             '曲棍球棒','釣魚竿']\n",
    "obj_animal = ['馬','驢','牛','豬','羊','鹿','長頸鹿','駱駝','羊駝','大象','犀牛','河馬','獅子','豹','老虎','貓','狗','鼬',\n",
    "              '水獺','狼','狐狸','松鼠','土撥鼠','熊','兔子','猴子','猩猩','長臂猿','鴨嘴獸','食蟻獸','袋鼠','無尾熊','刺蝟',\n",
    "              '蝙蝠','老鷹','貓頭鷹','鱷魚','烏龜','青蛙','蝌蚪','蜥蜴','斑馬','獨角獸','龍','老鼠']\n",
    "obj_bird = ['火雞','孔雀','天鵝','鵝','鴿子','燕子','鵪鶉','海鷗','啄木鳥','鸚鵡','烏鴉','麻雀','企鵝']\n",
    "obj_fish = ['章魚','鱷魚','鯉魚','比目魚','鰻魚','小丑魚','熱帶魚','鮪魚','鮭魚','魟魚','沙丁魚','旗魚','鯊魚','烏賊','花枝',\n",
    "            '螃蟹','草蝦','龍蝦','海膽','海參','珊瑚','鱉','魷魚']\n",
    "obj_color = ['紅色','藍色','綠色','黃色','白色','黑色','咖啡色','橘色','紫色']\n",
    "obj_month = ['一月','二月','三月','四月','五月','六月','七月','八月','九月','十月','十一月','十二月']\n",
    "obj_holiday = ['跨年','農曆新年','元宵節','青年節','清明節','端午節','母親節','父親節','七夕','中元節','中秋節','教師節','聖誕節',\n",
    "               '愚人節','勞工節','感恩節','萬聖節','復活節']\n",
    "obj_cloth = ['西裝外套','襯衫','領帶','皮帶','外套','襯衫','T恤','POLO衫','毛衣','大衣']\n",
    "obj_shoes = ['皮鞋','運動鞋','室外拖鞋','涼鞋','靴子','娃娃鞋','室內拖鞋','夾腳拖','高跟鞋','登山鞋','雨鞋']\n",
    "obj_people = ['女孩','孫女','女人','母親','祖母','女兒','姊妹','朋友','情侶','家人','同學','同事','下屬','上司']\n",
    "obj_abstract = ['表面','觸覺','氣味','外觀','顏色','聲音','形狀','傾瀉','流質','表面','液體','流動','水','水流','秩序','永恆',\n",
    "                '理論','混亂','命運','理想','願望','給予','提供','拿取','承諾','感謝','發誓']\n",
    "obj_traffic = ['地下道','人行道','街道','交流道','高速公路','高架橋']\n",
    "obj_music = ['大提琴家','小提琴家','吉他手','貝斯手','豎琴演奏家','鋼琴家','長笛演奏家','鼓手','喇叭演奏家','雙簧管演奏家',\n",
    "             '管風琴家','木琴家','搖滾樂團','交響樂團','合唱團','重金屬樂團','爵士樂','古典樂','流行樂']\n",
    "obj_fire = ['火焰','炭烤爐','烤箱','木炭','壁爐','營火','瓦斯爐']\n",
    "obj_career = ['演員','教師','新聞主播','作家','秘書','導演','股東','老闆','經理','副總','業主','董事長','執行長']\n",
    "obj_tresure = ['寶石','珍珠','項鍊','獎章','手環','皇冠','戒指','時鐘','手錶','眼鏡','耳環','項鍊','刺青','髮箍','髮夾','髮圈',\n",
    "               '髮捲','髮膠']\n",
    "obj_hat = ['棒球帽','自行車安全帽','美式足球頭盔','包頭巾','牛仔帽','毛線帽','機車安全帽']\n",
    "obj_ghost = ['惡靈','殭屍','鬼魂','骷髏','狼人','木乃伊','吸血鬼']\n",
    "obj_ancient = ['皇帝','儒生','道士','宦官','外戚','權臣','衙役']\n",
    "obj_door = ['鎖','門把','門','門鈴','門檻','鑰匙孔','鑰匙']\n",
    "obj_electric = ['核能發電廠','煉油廠','燃煤發電廠','油田','水力發電大壩','煤礦場','風力發電廠']\n",
    "obj_fairy = ['豌豆公主','白雪公主','美女與野獸','睡美人','小紅帽','灰姑娘','長髮公主','彼得潘','虎克船長','小美人魚','阿拉丁',\n",
    "             '醜小鴨','糖果屋','傑克與豌豆','三隻小豬','桃太郎','浦島太郎','虎姑婆','小王子','小鹿斑比']\n",
    "obj_building = ['大廈','土地公廟','大教堂','城堡','清真寺','寺廟','宮殿','城鎮','市區','城市','住宅區','鄰居','村莊','郊區',\n",
    "                '市政廳','火車站','百貨公司','電影院','捷運站','公車站','夜市','KTV','超市','傳統市場','露營區','漁港','博物館',\n",
    "                '美術館','巨蛋','工廠']\n",
    "obj_crime = ['陌生人','暴徒','強盜','騙子','小偷','色狼','海盜']\n",
    "obj_character = ['唐吉軻德','亞瑟王','后羿','摩西','夸父','魯賓遜','凱薩','成吉思汗','達文西','孔子','蘇格拉底','李白']\n",
    "obj_subject = ['英文','數學','國文','歷史','地理','公民','物理','化學','生物','地科','美術','音樂']\n",
    "obj_literature = ['詩','開場白','文章','論文','小說','筆記','故事']\n",
    "obj_farmer = ['牧場','麥田','空地','玉米田','稻田','草地','動物園','穀倉','牧場','野生動物保護區','公園','花園','農場','植物園',\n",
    "              '停車場','庭院','廣場']\n",
    "obj_terrian = ['梯田','高山','平原','盆地','三角洲','海溝','丘陵','瀑布','河流','大海','湖','峽谷','台地','冰原','U型谷','髮夾彎']\n",
    "obj_game = ['麻將','撲克牌','桌遊','鬼抓人','電動','躲貓貓','射飛鏢','123木頭人','丟飛盤','烏龜烏龜翹','猜拳','黑白猜']\n",
    "obj_car_action = ['轉彎','開車','前進','煞車','加速','停止','減速']\n",
    "obj_museum = ['演講','戲劇','記者招待會','歌劇','展覽','歌舞劇','音樂會','舞會','派對']\n",
    "obj_professor = ['神學家','哲學家','統計學家','心理學家','社會學家','歷史學家','經濟學家','數學家']\n",
    "obj_king = ['立法委員','總統','行政院長','國王','皇后','公主','王子','首相','天皇']\n",
    "obj_detective = ['特務','私家偵探','FBI探員','警探','衛兵','保鑣','柯南']\n",
    "obj_swim = ['日光浴','漂浮','游泳','玩水','潛水','洗澡','狗爬式游泳']\n",
    "obj_3c = ['鍵盤','電話','耳機','音響','麥克風','遊戲手把','光碟播放器','電腦','手機','滑鼠']\n",
    "obj_feel = ['柔軟','光滑','圓潤','粗糙','蓬鬆','黏糊','彈性']\n",
    "obj_religion = ['基督教','伊斯蘭教','佛教','天主教','道教','猶太教','印度教']\n",
    "obj_insect = ['蜘蛛','蟑螂','毛毛蟲','螳螂','蝴蝶','椿象','螢火蟲','螞蟻','蚊子','鍬形蟲','獨角仙']"
   ]
  },
  {
   "cell_type": "code",
   "execution_count": 114,
   "metadata": {
    "collapsed": true
   },
   "outputs": [],
   "source": [
    "def qusetion_generator(row, col, random_type, obj_type=None):\n",
    "    column = ['◆', '▼', '●', '★', '❤︎', '✔︎', '✖︎', '➤', '❖', '✽']\n",
    "    if random_type == 'random_all':\n",
    "        obj_all = obj_food + obj_vege + obj_frult + obj_life + obj_pen + obj_car + obj_sport + obj_animal + obj_bird + obj_fish + obj_color + obj_month + obj_holiday + obj_cloth + obj_shoes + obj_people + obj_abstract + obj_traffic + obj_music + obj_fire + obj_career + obj_tresure + obj_hat + obj_ghost + obj_ancient + obj_door + obj_electric + obj_fairy + obj_building + obj_crime + obj_character + obj_subject + obj_literature + obj_farmer + obj_terrian + obj_game + obj_car_action + obj_museum + obj_professor + obj_king + obj_detective + obj_swim + obj_3c + obj_feel + obj_religion + obj_insect\n",
    "        obj_choice = sample(obj_all, row*col)\n",
    "        return pd.DataFrame(np.array_split(obj_choice, row), columns=column[:col])\n",
    "    elif random_type == 'random_same_type':\n",
    "        obj_all = [obj_food, obj_vege, obj_frult, obj_life, obj_pen, obj_car, obj_sport, obj_animal, obj_bird, obj_fish, obj_color, obj_month, obj_holiday, obj_cloth, obj_shoes, obj_people, obj_abstract, obj_traffic, obj_music, obj_fire, obj_career, obj_tresure, obj_hat, obj_ghost, obj_ancient, obj_door, obj_electric, obj_fairy, obj_building, obj_crime, obj_character, obj_subject, obj_literature, obj_farmer, obj_terrian, obj_game, obj_car_action, obj_museum, obj_professor, obj_king, obj_detective, obj_swim, obj_3c, obj_feel, obj_religion, obj_insect]\n",
    "        obj_choice_type = sample(obj_all, col)\n",
    "        obj_choice = []\n",
    "        try:\n",
    "            for i in range(col):\n",
    "                obj_choice.append(sample(obj_choice_type[i], row))\n",
    "            return pd.DataFrame(np.array(obj_choice).T, columns=column[:col])\n",
    "        except:\n",
    "                print(str(obj_choice_type[i]) + ' 題數不足')\n",
    "    elif random_type == 'specify':\n",
    "        obj_all = list(itertools.chain.from_iterable(obj_type))\n",
    "        obj_choice = sample(obj_all, row*col)\n",
    "        return pd.DataFrame(np.array_split(obj_choice, row), columns=column[:col])"
   ]
  },
  {
   "cell_type": "markdown",
   "metadata": {},
   "source": [
    "### 全隨機"
   ]
  },
  {
   "cell_type": "code",
   "execution_count": 88,
   "metadata": {
    "code_folding": [
     0
    ],
    "collapsed": false
   },
   "outputs": [],
   "source": [
    "# obj_all = obj_food + obj_vege + obj_frult + obj_life + obj_pen + obj_car + obj_sport + obj_animal + obj_bird + obj_fish + obj_color + obj_month + obj_holiday + obj_cloth + obj_shoes + obj_people + obj_abstract + obj_traffic + obj_music + obj_fire + obj_career + obj_tresure + obj_hat + obj_ghost + obj_ancient + obj_door + obj_electric + obj_fairy + obj_building + obj_crime + obj_character + obj_subject + obj_literature + obj_farmer + obj_terrian + obj_game + obj_car_action + obj_museum + obj_professor + obj_king + obj_detective + obj_swim + obj_3c + obj_feel + obj_religion + obj_insect\n",
    "# obj_36 = sample(obj_all, 36)\n",
    "# obj_36_del = list(zip(obj_36[:6], obj_36[6:12],obj_36[12:18],obj_36[18:24],obj_36[24:30],obj_36[30:36]))\n",
    "# pd.DataFrame(obj_36_del, columns=['◆', '▼', '●', '★', '❤︎','✔︎'])"
   ]
  },
  {
   "cell_type": "code",
   "execution_count": 115,
   "metadata": {
    "collapsed": false
   },
   "outputs": [
    {
     "data": {
      "text/html": [
       "<div>\n",
       "<table border=\"1\" class=\"dataframe\">\n",
       "  <thead>\n",
       "    <tr style=\"text-align: right;\">\n",
       "      <th></th>\n",
       "      <th>◆</th>\n",
       "      <th>▼</th>\n",
       "      <th>●</th>\n",
       "      <th>★</th>\n",
       "      <th>❤︎</th>\n",
       "      <th>✔︎</th>\n",
       "      <th>✖︎</th>\n",
       "    </tr>\n",
       "  </thead>\n",
       "  <tbody>\n",
       "    <tr>\n",
       "      <th>0</th>\n",
       "      <td>光碟播放器</td>\n",
       "      <td>魯賓遜</td>\n",
       "      <td>命運</td>\n",
       "      <td>遊戲手把</td>\n",
       "      <td>壁爐</td>\n",
       "      <td>烏龜</td>\n",
       "      <td>襯衫</td>\n",
       "    </tr>\n",
       "    <tr>\n",
       "      <th>1</th>\n",
       "      <td>化妝品</td>\n",
       "      <td>理論</td>\n",
       "      <td>釣魚竿</td>\n",
       "      <td>十一月</td>\n",
       "      <td>露營區</td>\n",
       "      <td>洗澡</td>\n",
       "      <td>手環</td>\n",
       "    </tr>\n",
       "    <tr>\n",
       "      <th>2</th>\n",
       "      <td>營火</td>\n",
       "      <td>奶粉</td>\n",
       "      <td>文件袋</td>\n",
       "      <td>展覽</td>\n",
       "      <td>猩猩</td>\n",
       "      <td>土撥鼠</td>\n",
       "      <td>圓潤</td>\n",
       "    </tr>\n",
       "    <tr>\n",
       "      <th>3</th>\n",
       "      <td>七月</td>\n",
       "      <td>股東</td>\n",
       "      <td>哲學家</td>\n",
       "      <td>市政廳</td>\n",
       "      <td>女兒</td>\n",
       "      <td>西裝外套</td>\n",
       "      <td>河流</td>\n",
       "    </tr>\n",
       "    <tr>\n",
       "      <th>4</th>\n",
       "      <td>拋棄式雨衣</td>\n",
       "      <td>天主教</td>\n",
       "      <td>旗魚</td>\n",
       "      <td>鞋子</td>\n",
       "      <td>麵包</td>\n",
       "      <td>海參</td>\n",
       "      <td>機車安全帽</td>\n",
       "    </tr>\n",
       "    <tr>\n",
       "      <th>5</th>\n",
       "      <td>腳踏車</td>\n",
       "      <td>冷凍食物</td>\n",
       "      <td>火車站</td>\n",
       "      <td>朋友</td>\n",
       "      <td>鼬</td>\n",
       "      <td>達文西</td>\n",
       "      <td>鸚鵡</td>\n",
       "    </tr>\n",
       "  </tbody>\n",
       "</table>\n",
       "</div>"
      ],
      "text/plain": [
       "       ◆     ▼    ●     ★   ❤︎    ✔︎     ✖︎\n",
       "0  光碟播放器   魯賓遜   命運  遊戲手把   壁爐    烏龜     襯衫\n",
       "1    化妝品    理論  釣魚竿   十一月  露營區    洗澡     手環\n",
       "2     營火    奶粉  文件袋    展覽   猩猩   土撥鼠     圓潤\n",
       "3     七月    股東  哲學家   市政廳   女兒  西裝外套     河流\n",
       "4  拋棄式雨衣   天主教   旗魚    鞋子   麵包    海參  機車安全帽\n",
       "5    腳踏車  冷凍食物  火車站    朋友    鼬   達文西     鸚鵡"
      ]
     },
     "execution_count": 115,
     "metadata": {},
     "output_type": "execute_result"
    }
   ],
   "source": [
    "qusetion_generator(row=6, col=7, random_type='random_all')"
   ]
  },
  {
   "cell_type": "markdown",
   "metadata": {},
   "source": [
    "### 同類別抽"
   ]
  },
  {
   "cell_type": "code",
   "execution_count": 54,
   "metadata": {
    "code_folding": [
     0
    ],
    "collapsed": false
   },
   "outputs": [],
   "source": [
    "# obj_all = [obj_food, obj_vege, obj_frult, obj_life, obj_pen, obj_car, obj_sport, obj_animal, obj_bird, obj_fish,\n",
    "#            obj_color, obj_month, obj_holiday, obj_cloth, obj_shoes, obj_people, obj_abstract, obj_traffic,\n",
    "#            obj_music, obj_fire, obj_career, obj_tresure, obj_hat, obj_ghost, obj_ancient, obj_door, obj_electric,\n",
    "#            obj_fairy, obj_building, obj_crime, obj_character, obj_subject, obj_literature, obj_farmer, obj_terrian,\n",
    "#            obj_game, obj_car_action, obj_museum, obj_professor, obj_king, obj_detective, obj_swim, obj_3c, obj_feel,\n",
    "#            obj_religion, obj_insect]\n",
    "# choice = sample(obj_all, 7)\n",
    "# pd.DataFrame(list(zip(sample(choice[0], 7), sample(choice[1], 7), sample(choice[2], 7), sample(choice[3], 7),\n",
    "#                       sample(choice[4], 7), sample(choice[5], 7), sample(choice[6], 7))), columns=['◆', '▼', '●', '★', '❤︎','✔︎','✖︎'])"
   ]
  },
  {
   "cell_type": "code",
   "execution_count": 116,
   "metadata": {
    "collapsed": false
   },
   "outputs": [
    {
     "data": {
      "text/html": [
       "<div>\n",
       "<table border=\"1\" class=\"dataframe\">\n",
       "  <thead>\n",
       "    <tr style=\"text-align: right;\">\n",
       "      <th></th>\n",
       "      <th>◆</th>\n",
       "      <th>▼</th>\n",
       "      <th>●</th>\n",
       "      <th>★</th>\n",
       "      <th>❤︎</th>\n",
       "      <th>✔︎</th>\n",
       "      <th>✖︎</th>\n",
       "    </tr>\n",
       "  </thead>\n",
       "  <tbody>\n",
       "    <tr>\n",
       "      <th>0</th>\n",
       "      <td>柯南</td>\n",
       "      <td>毛衣</td>\n",
       "      <td>漂浮</td>\n",
       "      <td>奶粉</td>\n",
       "      <td>鬼抓人</td>\n",
       "      <td>老闆</td>\n",
       "      <td>儒生</td>\n",
       "    </tr>\n",
       "    <tr>\n",
       "      <th>1</th>\n",
       "      <td>警探</td>\n",
       "      <td>T恤</td>\n",
       "      <td>潛水</td>\n",
       "      <td>派</td>\n",
       "      <td>丟飛盤</td>\n",
       "      <td>演員</td>\n",
       "      <td>衙役</td>\n",
       "    </tr>\n",
       "    <tr>\n",
       "      <th>2</th>\n",
       "      <td>私家偵探</td>\n",
       "      <td>外套</td>\n",
       "      <td>洗澡</td>\n",
       "      <td>漢堡</td>\n",
       "      <td>烏龜烏龜翹</td>\n",
       "      <td>副總</td>\n",
       "      <td>皇帝</td>\n",
       "    </tr>\n",
       "    <tr>\n",
       "      <th>3</th>\n",
       "      <td>保鑣</td>\n",
       "      <td>西裝外套</td>\n",
       "      <td>日光浴</td>\n",
       "      <td>蔥油餅</td>\n",
       "      <td>射飛鏢</td>\n",
       "      <td>新聞主播</td>\n",
       "      <td>宦官</td>\n",
       "    </tr>\n",
       "    <tr>\n",
       "      <th>4</th>\n",
       "      <td>FBI探員</td>\n",
       "      <td>皮帶</td>\n",
       "      <td>狗爬式游泳</td>\n",
       "      <td>開心果</td>\n",
       "      <td>躲貓貓</td>\n",
       "      <td>股東</td>\n",
       "      <td>外戚</td>\n",
       "    </tr>\n",
       "    <tr>\n",
       "      <th>5</th>\n",
       "      <td>衛兵</td>\n",
       "      <td>大衣</td>\n",
       "      <td>游泳</td>\n",
       "      <td>杏仁</td>\n",
       "      <td>麻將</td>\n",
       "      <td>執行長</td>\n",
       "      <td>權臣</td>\n",
       "    </tr>\n",
       "  </tbody>\n",
       "</table>\n",
       "</div>"
      ],
      "text/plain": [
       "       ◆     ▼      ●    ★     ❤︎    ✔︎  ✖︎\n",
       "0     柯南    毛衣     漂浮   奶粉    鬼抓人    老闆  儒生\n",
       "1     警探    T恤     潛水    派    丟飛盤    演員  衙役\n",
       "2   私家偵探    外套     洗澡   漢堡  烏龜烏龜翹    副總  皇帝\n",
       "3     保鑣  西裝外套    日光浴  蔥油餅    射飛鏢  新聞主播  宦官\n",
       "4  FBI探員    皮帶  狗爬式游泳  開心果    躲貓貓    股東  外戚\n",
       "5     衛兵    大衣     游泳   杏仁     麻將   執行長  權臣"
      ]
     },
     "execution_count": 116,
     "metadata": {},
     "output_type": "execute_result"
    }
   ],
   "source": [
    "qusetion_generator(row=6, col=7, random_type='random_same_type')"
   ]
  },
  {
   "cell_type": "markdown",
   "metadata": {},
   "source": [
    "### 指定類別抽"
   ]
  },
  {
   "cell_type": "code",
   "execution_count": 118,
   "metadata": {
    "code_folding": [
     0
    ],
    "collapsed": false
   },
   "outputs": [],
   "source": [
    "# obj_36 = sample((obj_animal + obj_bird + obj_fish + obj_insect), 36)\n",
    "# obj_36_del = list(zip(obj_36[:6], obj_36[6:12],obj_36[12:18],obj_36[18:24],obj_36[24:30],obj_36[30:36]))\n",
    "# pd.DataFrame(obj_36_del, columns=['◆', '▼', '●', '★', '❤︎','✔︎'])"
   ]
  },
  {
   "cell_type": "code",
   "execution_count": 122,
   "metadata": {
    "collapsed": false
   },
   "outputs": [
    {
     "data": {
      "text/html": [
       "<div>\n",
       "<table border=\"1\" class=\"dataframe\">\n",
       "  <thead>\n",
       "    <tr style=\"text-align: right;\">\n",
       "      <th></th>\n",
       "      <th>◆</th>\n",
       "      <th>▼</th>\n",
       "      <th>●</th>\n",
       "      <th>★</th>\n",
       "      <th>❤︎</th>\n",
       "      <th>✔︎</th>\n",
       "      <th>✖︎</th>\n",
       "    </tr>\n",
       "  </thead>\n",
       "  <tbody>\n",
       "    <tr>\n",
       "      <th>0</th>\n",
       "      <td>青蛙</td>\n",
       "      <td>烏龜</td>\n",
       "      <td>鰻魚</td>\n",
       "      <td>大象</td>\n",
       "      <td>螳螂</td>\n",
       "      <td>羊</td>\n",
       "      <td>螃蟹</td>\n",
       "    </tr>\n",
       "    <tr>\n",
       "      <th>1</th>\n",
       "      <td>老鼠</td>\n",
       "      <td>烏鴉</td>\n",
       "      <td>小丑魚</td>\n",
       "      <td>豹</td>\n",
       "      <td>食蟻獸</td>\n",
       "      <td>龍蝦</td>\n",
       "      <td>蝴蝶</td>\n",
       "    </tr>\n",
       "    <tr>\n",
       "      <th>2</th>\n",
       "      <td>牛</td>\n",
       "      <td>犀牛</td>\n",
       "      <td>旗魚</td>\n",
       "      <td>貓</td>\n",
       "      <td>啄木鳥</td>\n",
       "      <td>鱉</td>\n",
       "      <td>龍</td>\n",
       "    </tr>\n",
       "    <tr>\n",
       "      <th>3</th>\n",
       "      <td>刺蝟</td>\n",
       "      <td>花枝</td>\n",
       "      <td>猩猩</td>\n",
       "      <td>蟑螂</td>\n",
       "      <td>馬</td>\n",
       "      <td>鼬</td>\n",
       "      <td>老虎</td>\n",
       "    </tr>\n",
       "    <tr>\n",
       "      <th>4</th>\n",
       "      <td>袋鼠</td>\n",
       "      <td>貓頭鷹</td>\n",
       "      <td>烏賊</td>\n",
       "      <td>蜥蜴</td>\n",
       "      <td>毛毛蟲</td>\n",
       "      <td>豬</td>\n",
       "      <td>珊瑚</td>\n",
       "    </tr>\n",
       "    <tr>\n",
       "      <th>5</th>\n",
       "      <td>鴿子</td>\n",
       "      <td>螢火蟲</td>\n",
       "      <td>火雞</td>\n",
       "      <td>沙丁魚</td>\n",
       "      <td>鱷魚</td>\n",
       "      <td>鮪魚</td>\n",
       "      <td>椿象</td>\n",
       "    </tr>\n",
       "  </tbody>\n",
       "</table>\n",
       "</div>"
      ],
      "text/plain": [
       "    ◆    ▼    ●    ★   ❤︎  ✔︎  ✖︎\n",
       "0  青蛙   烏龜   鰻魚   大象   螳螂   羊  螃蟹\n",
       "1  老鼠   烏鴉  小丑魚    豹  食蟻獸  龍蝦  蝴蝶\n",
       "2   牛   犀牛   旗魚    貓  啄木鳥   鱉   龍\n",
       "3  刺蝟   花枝   猩猩   蟑螂    馬   鼬  老虎\n",
       "4  袋鼠  貓頭鷹   烏賊   蜥蜴  毛毛蟲   豬  珊瑚\n",
       "5  鴿子  螢火蟲   火雞  沙丁魚   鱷魚  鮪魚  椿象"
      ]
     },
     "execution_count": 122,
     "metadata": {},
     "output_type": "execute_result"
    }
   ],
   "source": [
    "type_ = [obj_animal, obj_bird, obj_fish, obj_insect]\n",
    "qusetion_generator(row=6, col=7, random_type='specify', obj_type=type_)"
   ]
  },
  {
   "cell_type": "code",
   "execution_count": null,
   "metadata": {
    "collapsed": true
   },
   "outputs": [],
   "source": []
  }
 ],
 "metadata": {
  "kernelspec": {
   "display_name": "Python 3",
   "language": "python",
   "name": "python3"
  },
  "language_info": {
   "codemirror_mode": {
    "name": "ipython",
    "version": 3
   },
   "file_extension": ".py",
   "mimetype": "text/x-python",
   "name": "python",
   "nbconvert_exporter": "python",
   "pygments_lexer": "ipython3",
   "version": "3.6.8"
  },
  "toc": {
   "base_numbering": 1,
   "nav_menu": {},
   "number_sections": true,
   "sideBar": true,
   "skip_h1_title": false,
   "title_cell": "Table of Contents",
   "title_sidebar": "Contents",
   "toc_cell": false,
   "toc_position": {},
   "toc_section_display": true,
   "toc_window_display": false
  }
 },
 "nbformat": 4,
 "nbformat_minor": 2
}
